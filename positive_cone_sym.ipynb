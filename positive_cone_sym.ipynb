{
 "cells": [
  {
   "cell_type": "code",
   "execution_count": 1,
   "metadata": {},
   "outputs": [],
   "source": [
    "from sympy import *  "
   ]
  },
  {
   "cell_type": "code",
   "execution_count": 189,
   "metadata": {},
   "outputs": [],
   "source": [
    "Q = Matrix([[2, -1,0], [-1, 2,-1], [0, -1,-4]])\n",
    "#v = Matrix([-1, 1, 0])\n",
    "#omega = Matrix([1,1,0])\n",
    "v = Matrix([1,1,0])\n",
    "omega = Matrix([-1, 1, 0])"
   ]
  },
  {
   "cell_type": "code",
   "execution_count": 227,
   "metadata": {},
   "outputs": [],
   "source": [
    "class Latice(object):\n",
    "    \n",
    "    def __init__(self, Q, omega):\n",
    "        \"\"\"\n",
    "        Initalizes the latice\n",
    "        \n",
    "            needs\n",
    "            -matrix\n",
    "            -a vector\n",
    "            \n",
    "            should check\n",
    "            -that matrix is nxn and vectors have n entries\n",
    "            -omega^2 is positive\n",
    "            -everything is an integral\n",
    "        \"\"\"\n",
    "        \n",
    "        # n should be the rank of the latice\n",
    "        self.n = omega.rows\n",
    "        \n",
    "        if( omega.cols != 1 ):\n",
    "            raise ValueError('omega should have one column')\n",
    "            \n",
    "        if( (Q.rows != self.n) or (Q.cols != self.n) ):\n",
    "            raise ValueError('Q should have as many rows and columns as omega has rows')\n",
    "        \n",
    "        #matrix that gives dot product\n",
    "        self.Q = Q\n",
    "        \n",
    "        \n",
    "        #ample class\n",
    "        self.omega = omega\n",
    "        \n",
    "        \n",
    "        if( ((self.omega).T * self.Q * self.omega)[0] < 0 ):\n",
    "            print(\"omega should be positive\")\n",
    "    \n",
    "    def _center_on_omega(vec1,vec2):\n",
    "        \"\"\"\n",
    "        \n",
    "        \"\"\"\n",
    "\n",
    "    "
   ]
  },
  {
   "cell_type": "code",
   "execution_count": 228,
   "metadata": {},
   "outputs": [],
   "source": [
    "class Hyperkahler(Latice):\n",
    "\n",
    "    def __init__(self, Q, v, omega):\n",
    "        \"\"\"\n",
    "        Initalizes the latice\n",
    "        \n",
    "            needs\n",
    "            -integer matrix \n",
    "            -two integer vectors\n",
    "            \n",
    "            should check\n",
    "            -that matrix is nxn and vectors have n entries\n",
    "            -v^2 is positive\n",
    "            -everything is an integral\n",
    "            \n",
    "        \"\"\"\n",
    "        #initalize Q and omega with the parent initializer\n",
    "        super(Hyperkahler,self).__init__(Q,omega)\n",
    "        \n",
    "        #Mukai vector\n",
    "        self.v = v\n",
    "\n",
    "        \n",
    "        self._init_v_perp()\n",
    "        \n",
    "        \n",
    "    def _init_v_perp(self):\n",
    "        \"\"\"\n",
    "        initialize a sublatice v_perp\n",
    "        \n",
    "        steps\n",
    "        - find basis nullspace\n",
    "        - make basis vectors integral\n",
    "        \n",
    "        - create a latice v_perp where basis is the basis of the calculated nullspace\n",
    "            - find omega in terms of perp basis\n",
    "            - make a new Q from basis.T*Q*basis\n",
    "        \"\"\"\n",
    "        \n",
    "        \n",
    "        vQ = L.v.T *L.Q\n",
    "        Ker = vQ.nullspace()\n",
    "        \n",
    "        #loop through Kernel to make sure the vectors are integral\n",
    "        for i in [0, len(Ker)-1]:\n",
    "            for ent in Ker[i]:\n",
    "                if isinstance(ent, Rational):\n",
    "                    Ker[i] = ent.q * Ker[i]\n",
    "                    #print(Ker[i])\n",
    "        \n",
    "        # make a matrix perp_basis whose \n",
    "        self.v_perp_basis = Ker[0].row_join(Ker[1])\n",
    "        \n",
    "        # initalize a sublatice with basis v_perp_basis\n",
    "        v_perp_Q = self.v_perp_basis.T * Q * self.v_perp_basis\n",
    "        v_perp_omega = perp_basis.LUsolve(self.omega)\n",
    "        \n",
    "        self.v_perp = Latice(v_perp_Q,v_perp_omega)\n",
    "        \n",
    "        \n",
    "        "
   ]
  },
  {
   "cell_type": "code",
   "execution_count": 229,
   "metadata": {},
   "outputs": [],
   "source": [
    "L = Hyperkahler(Q,v,omega)"
   ]
  },
  {
   "cell_type": "code",
   "execution_count": 230,
   "metadata": {
    "scrolled": true
   },
   "outputs": [
    {
     "data": {
      "text/latex": [
       "$\\displaystyle \\left[\\begin{matrix}-1\\\\1\\\\0\\end{matrix}\\right]$"
      ],
      "text/plain": [
       "Matrix([\n",
       "[-1],\n",
       "[ 1],\n",
       "[ 0]])"
      ]
     },
     "execution_count": 230,
     "metadata": {},
     "output_type": "execute_result"
    }
   ],
   "source": [
    "L.omega"
   ]
  },
  {
   "cell_type": "code",
   "execution_count": 231,
   "metadata": {},
   "outputs": [],
   "source": [
    "#how to find a perp basis matrix\n",
    "M = L.v.T *L.Q\n",
    "Ker = M.nullspace()\n",
    "\n",
    "for i in [0, len(Ker)-1]:\n",
    "    for ent in Ker[i]:\n",
    "        if isinstance(ent, Rational):\n",
    "            Ker[i] = ent.q * Ker[i]\n",
    "\n",
    "perp_basis = Ker[0].row_join(Ker[1])"
   ]
  },
  {
   "cell_type": "code",
   "execution_count": 232,
   "metadata": {},
   "outputs": [
    {
     "data": {
      "text/latex": [
       "$\\displaystyle \\left[\\begin{matrix}-1 & 1\\\\1 & 0\\\\0 & 1\\end{matrix}\\right]$"
      ],
      "text/plain": [
       "Matrix([\n",
       "[-1, 1],\n",
       "[ 1, 0],\n",
       "[ 0, 1]])"
      ]
     },
     "execution_count": 232,
     "metadata": {},
     "output_type": "execute_result"
    }
   ],
   "source": [
    "perp_basis\n"
   ]
  },
  {
   "cell_type": "code",
   "execution_count": 233,
   "metadata": {},
   "outputs": [
    {
     "data": {
      "text/latex": [
       "$\\displaystyle \\left[\\begin{matrix}1\\\\0\\end{matrix}\\right]$"
      ],
      "text/plain": [
       "Matrix([\n",
       "[1],\n",
       "[0]])"
      ]
     },
     "execution_count": 233,
     "metadata": {},
     "output_type": "execute_result"
    }
   ],
   "source": [
    "perp_omega = perp_basis.LUsolve(omega)\n",
    "perp_omega"
   ]
  },
  {
   "cell_type": "code",
   "execution_count": 234,
   "metadata": {},
   "outputs": [
    {
     "data": {
      "text/latex": [
       "$\\displaystyle \\left[\\begin{matrix}6 & -4\\\\-4 & -2\\end{matrix}\\right]$"
      ],
      "text/plain": [
       "Matrix([\n",
       "[ 6, -4],\n",
       "[-4, -2]])"
      ]
     },
     "execution_count": 234,
     "metadata": {},
     "output_type": "execute_result"
    }
   ],
   "source": [
    "perp_Q = perp_basis.T*Q*perp_basis\n",
    "perp_Q"
   ]
  },
  {
   "cell_type": "code",
   "execution_count": 235,
   "metadata": {},
   "outputs": [
    {
     "data": {
      "text/latex": [
       "$\\displaystyle \\left[\\begin{matrix}6\\end{matrix}\\right]$"
      ],
      "text/plain": [
       "Matrix([[6]])"
      ]
     },
     "execution_count": 235,
     "metadata": {},
     "output_type": "execute_result"
    }
   ],
   "source": [
    "omega.T*Q*omega"
   ]
  },
  {
   "cell_type": "code",
   "execution_count": 236,
   "metadata": {},
   "outputs": [
    {
     "data": {
      "text/latex": [
       "$\\displaystyle \\left[\\begin{matrix}6\\end{matrix}\\right]$"
      ],
      "text/plain": [
       "Matrix([[6]])"
      ]
     },
     "execution_count": 236,
     "metadata": {},
     "output_type": "execute_result"
    }
   ],
   "source": [
    "perp_omega.T*perp_Q*perp_omega"
   ]
  },
  {
   "cell_type": "code",
   "execution_count": 237,
   "metadata": {},
   "outputs": [
    {
     "data": {
      "text/plain": [
       "1"
      ]
     },
     "execution_count": 237,
     "metadata": {},
     "output_type": "execute_result"
    }
   ],
   "source": [
    "omega.cols\n"
   ]
  },
  {
   "cell_type": "code",
   "execution_count": 238,
   "metadata": {},
   "outputs": [
    {
     "data": {
      "text/plain": [
       "(2, 2)"
      ]
     },
     "execution_count": 238,
     "metadata": {},
     "output_type": "execute_result"
    }
   ],
   "source": [
    "perp_Q.shape"
   ]
  },
  {
   "cell_type": "code",
   "execution_count": null,
   "metadata": {},
   "outputs": [],
   "source": []
  },
  {
   "cell_type": "code",
   "execution_count": null,
   "metadata": {},
   "outputs": [],
   "source": []
  }
 ],
 "metadata": {
  "kernelspec": {
   "display_name": "SageMath 8.8",
   "language": "sage",
   "name": "sagemath"
  },
  "language_info": {
   "codemirror_mode": {
    "name": "ipython",
    "version": 2
   },
   "file_extension": ".py",
   "mimetype": "text/x-python",
   "name": "python",
   "nbconvert_exporter": "python",
   "pygments_lexer": "ipython2",
   "version": "2.7.15"
  }
 },
 "nbformat": 4,
 "nbformat_minor": 2
}
